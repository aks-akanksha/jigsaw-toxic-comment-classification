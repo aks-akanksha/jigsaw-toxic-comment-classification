{
 "cells": [
  {
   "cell_type": "code",
   "execution_count": null,
   "metadata": {
    "execution": {
     "iopub.execute_input": "2021-10-13T10:49:46.671483Z",
     "iopub.status.busy": "2021-10-13T10:49:46.671286Z",
     "iopub.status.idle": "2021-10-13T10:49:50.92977Z",
     "shell.execute_reply": "2021-10-13T10:49:50.92903Z",
     "shell.execute_reply.started": "2021-10-13T10:49:46.671455Z"
    }
   },
   "outputs": [],
   "source": [
    "import pandas as pd\n",
    "import numpy as np \n",
    "\n",
    "import matplotlib.pyplot as plt\n",
    "%matplotlib inline\n",
    "\n",
    "import tensorflow as tf\n",
    "from tensorflow.keras.preprocessing.text import Tokenizer\n",
    "from tensorflow.keras.preprocessing.sequence import pad_sequences\n",
    "from tensorflow.keras.layers import Dense, Input, LSTM, Embedding, Dropout, Activation\n",
    "from tensorflow.keras.layers import Bidirectional, GlobalMaxPool1D\n",
    "from tensorflow.keras.models import Model\n",
    "from tensorflow.keras import initializers, regularizers, constraints, optimizers, layers"
   ]
  },
  {
   "cell_type": "markdown",
   "metadata": {},
   "source": [
    "# Importing Dataset"
   ]
  },
  {
   "cell_type": "code",
   "execution_count": null,
   "metadata": {
    "execution": {
     "iopub.execute_input": "2021-10-13T10:49:50.931328Z",
     "iopub.status.busy": "2021-10-13T10:49:50.931088Z",
     "iopub.status.idle": "2021-10-13T10:49:55.024322Z",
     "shell.execute_reply": "2021-10-13T10:49:55.02329Z",
     "shell.execute_reply.started": "2021-10-13T10:49:50.931297Z"
    }
   },
   "outputs": [],
   "source": [
    "train = pd.read_csv(\"../input/jigsaw-toxic-comment-classification-challenge/train.csv.zip\")\n",
    "test = pd.read_csv(\"../input/jigsaw-toxic-comment-classification-challenge/test.csv.zip\")"
   ]
  },
  {
   "cell_type": "code",
   "execution_count": null,
   "metadata": {
    "execution": {
     "iopub.execute_input": "2021-10-13T10:49:55.026919Z",
     "iopub.status.busy": "2021-10-13T10:49:55.026521Z",
     "iopub.status.idle": "2021-10-13T10:49:55.068Z",
     "shell.execute_reply": "2021-10-13T10:49:55.06696Z",
     "shell.execute_reply.started": "2021-10-13T10:49:55.026886Z"
    }
   },
   "outputs": [],
   "source": [
    "train.head()"
   ]
  },
  {
   "cell_type": "markdown",
   "metadata": {},
   "source": [
    "# Check for null values"
   ]
  },
  {
   "cell_type": "code",
   "execution_count": null,
   "metadata": {
    "execution": {
     "iopub.execute_input": "2021-10-13T10:49:55.072979Z",
     "iopub.status.busy": "2021-10-13T10:49:55.071014Z",
     "iopub.status.idle": "2021-10-13T10:49:55.186748Z",
     "shell.execute_reply": "2021-10-13T10:49:55.186106Z",
     "shell.execute_reply.started": "2021-10-13T10:49:55.072935Z"
    }
   },
   "outputs": [],
   "source": [
    "print(train.isnull().sum())\n",
    "print(test.isnull().sum())"
   ]
  },
  {
   "cell_type": "markdown",
   "metadata": {},
   "source": [
    "# Separate x and y component from training set"
   ]
  },
  {
   "cell_type": "code",
   "execution_count": null,
   "metadata": {
    "execution": {
     "iopub.execute_input": "2021-10-13T10:49:55.192272Z",
     "iopub.status.busy": "2021-10-13T10:49:55.190157Z",
     "iopub.status.idle": "2021-10-13T10:49:55.205429Z",
     "shell.execute_reply": "2021-10-13T10:49:55.204435Z",
     "shell.execute_reply.started": "2021-10-13T10:49:55.192236Z"
    }
   },
   "outputs": [],
   "source": [
    "x_train = train[\"comment_text\"]\n",
    "\n",
    "y_train = train[[\"toxic\", \"severe_toxic\", \"obscene\", \"threat\", \"insult\", \"identity_hate\"]]\n",
    "\n",
    "x_test = test[\"comment_text\"]"
   ]
  },
  {
   "cell_type": "code",
   "execution_count": null,
   "metadata": {
    "execution": {
     "iopub.execute_input": "2021-10-13T10:49:55.212208Z",
     "iopub.status.busy": "2021-10-13T10:49:55.209408Z",
     "iopub.status.idle": "2021-10-13T10:49:55.395207Z",
     "shell.execute_reply": "2021-10-13T10:49:55.394516Z",
     "shell.execute_reply.started": "2021-10-13T10:49:55.212173Z"
    }
   },
   "outputs": [],
   "source": [
    "print(x_train.map(lambda i: len(i)).max())"
   ]
  },
  {
   "cell_type": "markdown",
   "metadata": {},
   "source": [
    "# Tokenize the input comments"
   ]
  },
  {
   "cell_type": "code",
   "execution_count": null,
   "metadata": {
    "execution": {
     "iopub.execute_input": "2021-10-13T10:49:55.401114Z",
     "iopub.status.busy": "2021-10-13T10:49:55.398744Z",
     "iopub.status.idle": "2021-10-13T10:50:22.118501Z",
     "shell.execute_reply": "2021-10-13T10:50:22.117804Z",
     "shell.execute_reply.started": "2021-10-13T10:49:55.401068Z"
    }
   },
   "outputs": [],
   "source": [
    "max_feature = 20000\n",
    "\n",
    "tokenizer = Tokenizer(num_words = max_feature)\n",
    "tokenizer.fit_on_texts(list(x_train))\n",
    "tokenized_train = tokenizer.texts_to_sequences(x_train)\n",
    "tokenized_test = tokenizer.texts_to_sequences(x_test)"
   ]
  },
  {
   "cell_type": "code",
   "execution_count": null,
   "metadata": {
    "execution": {
     "iopub.execute_input": "2021-10-13T10:50:22.120495Z",
     "iopub.status.busy": "2021-10-13T10:50:22.120217Z",
     "iopub.status.idle": "2021-10-13T10:50:22.127027Z",
     "shell.execute_reply": "2021-10-13T10:50:22.126329Z",
     "shell.execute_reply.started": "2021-10-13T10:50:22.120461Z"
    }
   },
   "outputs": [],
   "source": [
    "tokenized_train[:1]"
   ]
  },
  {
   "cell_type": "markdown",
   "metadata": {},
   "source": [
    "# Apply Padding\n",
    "Padding helps in reducing the gap of length between inputs. Here added zeros at the end of the comments whose length is less than 100(=maxlen)"
   ]
  },
  {
   "cell_type": "code",
   "execution_count": null,
   "metadata": {
    "execution": {
     "iopub.execute_input": "2021-10-13T10:50:22.130214Z",
     "iopub.status.busy": "2021-10-13T10:50:22.129685Z",
     "iopub.status.idle": "2021-10-13T10:50:26.646279Z",
     "shell.execute_reply": "2021-10-13T10:50:26.645428Z",
     "shell.execute_reply.started": "2021-10-13T10:50:22.130179Z"
    }
   },
   "outputs": [],
   "source": [
    "maxlen = 100\n",
    "x_train = pad_sequences(tokenized_train, maxlen = maxlen)\n",
    "x_test = pad_sequences(tokenized_test, maxlen = maxlen)"
   ]
  },
  {
   "cell_type": "markdown",
   "metadata": {},
   "source": [
    "# Building the Model"
   ]
  },
  {
   "cell_type": "markdown",
   "metadata": {},
   "source": [
    "1. INPUT LAYER"
   ]
  },
  {
   "cell_type": "code",
   "execution_count": null,
   "metadata": {
    "execution": {
     "iopub.execute_input": "2021-10-13T10:50:26.647719Z",
     "iopub.status.busy": "2021-10-13T10:50:26.647425Z",
     "iopub.status.idle": "2021-10-13T10:50:26.663188Z",
     "shell.execute_reply": "2021-10-13T10:50:26.662537Z",
     "shell.execute_reply.started": "2021-10-13T10:50:26.647686Z"
    }
   },
   "outputs": [],
   "source": [
    "input = Input(shape = (maxlen,))"
   ]
  },
  {
   "cell_type": "markdown",
   "metadata": {},
   "source": [
    "2. EMBEDDING"
   ]
  },
  {
   "cell_type": "code",
   "execution_count": null,
   "metadata": {
    "execution": {
     "iopub.execute_input": "2021-10-13T10:50:26.664961Z",
     "iopub.status.busy": "2021-10-13T10:50:26.664468Z",
     "iopub.status.idle": "2021-10-13T10:50:28.446511Z",
     "shell.execute_reply": "2021-10-13T10:50:28.445784Z",
     "shell.execute_reply.started": "2021-10-13T10:50:26.664926Z"
    }
   },
   "outputs": [],
   "source": [
    "embed_size = 128\n",
    "x = Embedding(max_feature, embed_size)(input)"
   ]
  },
  {
   "cell_type": "markdown",
   "metadata": {},
   "source": [
    "3. LSTM LAYER"
   ]
  },
  {
   "cell_type": "code",
   "execution_count": null,
   "metadata": {
    "execution": {
     "iopub.execute_input": "2021-10-13T10:50:28.448381Z",
     "iopub.status.busy": "2021-10-13T10:50:28.447922Z",
     "iopub.status.idle": "2021-10-13T10:50:28.980385Z",
     "shell.execute_reply": "2021-10-13T10:50:28.979703Z",
     "shell.execute_reply.started": "2021-10-13T10:50:28.448345Z"
    }
   },
   "outputs": [],
   "source": [
    "x = LSTM(60, return_sequences = True, name = \"lstm_layer\")(x)"
   ]
  },
  {
   "cell_type": "markdown",
   "metadata": {},
   "source": [
    "4. MAX POOLING (To flatten the inputs for dense layer)"
   ]
  },
  {
   "cell_type": "code",
   "execution_count": null,
   "metadata": {
    "execution": {
     "iopub.execute_input": "2021-10-13T10:50:28.982077Z",
     "iopub.status.busy": "2021-10-13T10:50:28.981816Z",
     "iopub.status.idle": "2021-10-13T10:50:28.990065Z",
     "shell.execute_reply": "2021-10-13T10:50:28.989377Z",
     "shell.execute_reply.started": "2021-10-13T10:50:28.98204Z"
    }
   },
   "outputs": [],
   "source": [
    "x = GlobalMaxPool1D()(x)"
   ]
  },
  {
   "cell_type": "code",
   "execution_count": null,
   "metadata": {
    "execution": {
     "iopub.execute_input": "2021-10-13T10:50:28.992071Z",
     "iopub.status.busy": "2021-10-13T10:50:28.991453Z",
     "iopub.status.idle": "2021-10-13T10:50:29.000538Z",
     "shell.execute_reply": "2021-10-13T10:50:28.999836Z",
     "shell.execute_reply.started": "2021-10-13T10:50:28.992037Z"
    }
   },
   "outputs": [],
   "source": [
    "#Dropout to prevent overfitting\n",
    "\n",
    "x = Dropout(0.1)(x)"
   ]
  },
  {
   "cell_type": "markdown",
   "metadata": {},
   "source": [
    "5. FIRST DENSE LAYER"
   ]
  },
  {
   "cell_type": "code",
   "execution_count": null,
   "metadata": {
    "execution": {
     "iopub.execute_input": "2021-10-13T10:50:29.002325Z",
     "iopub.status.busy": "2021-10-13T10:50:29.00184Z",
     "iopub.status.idle": "2021-10-13T10:50:29.024166Z",
     "shell.execute_reply": "2021-10-13T10:50:29.023511Z",
     "shell.execute_reply.started": "2021-10-13T10:50:29.002289Z"
    }
   },
   "outputs": [],
   "source": [
    "x = Dense(50, activation = \"relu\")(x)"
   ]
  },
  {
   "cell_type": "code",
   "execution_count": null,
   "metadata": {
    "execution": {
     "iopub.execute_input": "2021-10-13T10:50:29.025543Z",
     "iopub.status.busy": "2021-10-13T10:50:29.025272Z",
     "iopub.status.idle": "2021-10-13T10:50:29.032931Z",
     "shell.execute_reply": "2021-10-13T10:50:29.032016Z",
     "shell.execute_reply.started": "2021-10-13T10:50:29.025508Z"
    }
   },
   "outputs": [],
   "source": [
    "#Dropout to prevent overfitting\n",
    "\n",
    "x = Dropout(0.1)(x)"
   ]
  },
  {
   "cell_type": "markdown",
   "metadata": {},
   "source": [
    "6. SECOND DENSE LAYER"
   ]
  },
  {
   "cell_type": "code",
   "execution_count": null,
   "metadata": {
    "execution": {
     "iopub.execute_input": "2021-10-13T10:50:29.034815Z",
     "iopub.status.busy": "2021-10-13T10:50:29.034469Z",
     "iopub.status.idle": "2021-10-13T10:50:29.04867Z",
     "shell.execute_reply": "2021-10-13T10:50:29.04794Z",
     "shell.execute_reply.started": "2021-10-13T10:50:29.03478Z"
    }
   },
   "outputs": [],
   "source": [
    "x = Dense(6, activation = \"sigmoid\")(x)"
   ]
  },
  {
   "cell_type": "markdown",
   "metadata": {},
   "source": [
    "7. COMPILING LAYERS"
   ]
  },
  {
   "cell_type": "code",
   "execution_count": null,
   "metadata": {
    "execution": {
     "iopub.execute_input": "2021-10-13T10:50:29.050133Z",
     "iopub.status.busy": "2021-10-13T10:50:29.049851Z",
     "iopub.status.idle": "2021-10-13T10:50:29.069216Z",
     "shell.execute_reply": "2021-10-13T10:50:29.068611Z",
     "shell.execute_reply.started": "2021-10-13T10:50:29.050101Z"
    }
   },
   "outputs": [],
   "source": [
    "model = Model(inputs = input, outputs = x)\n",
    "model.compile(loss = \"binary_crossentropy\",\n",
    "             optimizer = \"adam\",\n",
    "             metrics = [\"accuracy\"])"
   ]
  },
  {
   "cell_type": "markdown",
   "metadata": {},
   "source": [
    "# Fit Model to the Data"
   ]
  },
  {
   "cell_type": "code",
   "execution_count": null,
   "metadata": {
    "execution": {
     "iopub.execute_input": "2021-10-13T10:50:29.071726Z",
     "iopub.status.busy": "2021-10-13T10:50:29.07153Z",
     "iopub.status.idle": "2021-10-13T10:55:28.798951Z",
     "shell.execute_reply": "2021-10-13T10:55:28.798286Z",
     "shell.execute_reply.started": "2021-10-13T10:50:29.071706Z"
    }
   },
   "outputs": [],
   "source": [
    "batch_size = 32\n",
    "epochs = 2\n",
    "model.fit(x_train, y_train, batch_size = batch_size, epochs = epochs, validation_split = 0.1)"
   ]
  },
  {
   "cell_type": "markdown",
   "metadata": {},
   "source": [
    "# Predicting output of test set"
   ]
  },
  {
   "cell_type": "code",
   "execution_count": null,
   "metadata": {
    "execution": {
     "iopub.execute_input": "2021-10-13T10:55:28.800458Z",
     "iopub.status.busy": "2021-10-13T10:55:28.80013Z",
     "iopub.status.idle": "2021-10-13T10:55:49.155244Z",
     "shell.execute_reply": "2021-10-13T10:55:49.154518Z",
     "shell.execute_reply.started": "2021-10-13T10:55:28.800421Z"
    }
   },
   "outputs": [],
   "source": [
    "y_pred = model.predict(x_test,batch_size=32)"
   ]
  }
 ],
 "metadata": {
  "kernelspec": {
   "display_name": "Python 3",
   "language": "python",
   "name": "python3"
  },
  "language_info": {
   "codemirror_mode": {
    "name": "ipython",
    "version": 3
   },
   "file_extension": ".py",
   "mimetype": "text/x-python",
   "name": "python",
   "nbconvert_exporter": "python",
   "pygments_lexer": "ipython3",
   "version": "3.8.8"
  }
 },
 "nbformat": 4,
 "nbformat_minor": 4
}
